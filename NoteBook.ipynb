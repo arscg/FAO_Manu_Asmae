{
 "cells": [
  {
   "cell_type": "markdown",
   "id": "09128e06",
   "metadata": {},
   "source": [
    "# Analyse descriptives des données.\n",
    "\n",
    "Réalisation d'analyses descriptives statistiques et graphiques sur différents jeux de données :"
   ]
  },
  {
   "cell_type": "code",
   "execution_count": 1,
   "id": "7a6568d7",
   "metadata": {},
   "outputs": [],
   "source": [
    "import glob, sys, sqlite3\n",
    "import pandas as pd\n",
    "import numpy as np\n",
    "import matplotlib.pyplot as plt\n",
    "from colorama import Fore, Back, Style\n",
    "import seaborn as sns\n",
    "import matplotlib.pyplot as plt"
   ]
  },
  {
   "cell_type": "code",
   "execution_count": 2,
   "id": "5b5be177",
   "metadata": {},
   "outputs": [],
   "source": [
    "#connection à la base de données (à la SGBD)\n",
    "conn = sqlite3.connect('bdd.sqlite.db')"
   ]
  },
  {
   "cell_type": "code",
   "execution_count": 3,
   "id": "61d2d8a0",
   "metadata": {},
   "outputs": [
    {
     "ename": "DatabaseError",
     "evalue": "Execution failed on sql ' select \"Code Pays\", Pays, Valeur as Population\nfrom FAOSTAT_2013_population \norder by valeur desc;': no such table: FAOSTAT_2013_population",
     "output_type": "error",
     "traceback": [
      "\u001b[1;31m---------------------------------------------------------------------------\u001b[0m",
      "\u001b[1;31mOperationalError\u001b[0m                          Traceback (most recent call last)",
      "\u001b[1;32m~\\anaconda3\\envs\\IA\\lib\\site-packages\\pandas\\io\\sql.py\u001b[0m in \u001b[0;36mexecute\u001b[1;34m(self, *args, **kwargs)\u001b[0m\n\u001b[0;32m   2019\u001b[0m         \u001b[1;32mtry\u001b[0m\u001b[1;33m:\u001b[0m\u001b[1;33m\u001b[0m\u001b[1;33m\u001b[0m\u001b[0m\n\u001b[1;32m-> 2020\u001b[1;33m             \u001b[0mcur\u001b[0m\u001b[1;33m.\u001b[0m\u001b[0mexecute\u001b[0m\u001b[1;33m(\u001b[0m\u001b[1;33m*\u001b[0m\u001b[0margs\u001b[0m\u001b[1;33m,\u001b[0m \u001b[1;33m**\u001b[0m\u001b[0mkwargs\u001b[0m\u001b[1;33m)\u001b[0m\u001b[1;33m\u001b[0m\u001b[1;33m\u001b[0m\u001b[0m\n\u001b[0m\u001b[0;32m   2021\u001b[0m             \u001b[1;32mreturn\u001b[0m \u001b[0mcur\u001b[0m\u001b[1;33m\u001b[0m\u001b[1;33m\u001b[0m\u001b[0m\n",
      "\u001b[1;31mOperationalError\u001b[0m: no such table: FAOSTAT_2013_population",
      "\nThe above exception was the direct cause of the following exception:\n",
      "\u001b[1;31mDatabaseError\u001b[0m                             Traceback (most recent call last)",
      "\u001b[1;32m~\\AppData\\Local\\Temp\\ipykernel_12552\\478610305.py\u001b[0m in \u001b[0;36m<module>\u001b[1;34m\u001b[0m\n\u001b[0;32m      6\u001b[0m     \u001b[1;32mreturn\u001b[0m \u001b[0mpd\u001b[0m\u001b[1;33m.\u001b[0m\u001b[0mread_sql_query\u001b[0m\u001b[1;33m(\u001b[0m\u001b[0mSQL\u001b[0m\u001b[1;33m,\u001b[0m \u001b[0mcon\u001b[0m\u001b[1;33m=\u001b[0m\u001b[0mconn\u001b[0m\u001b[1;33m)\u001b[0m\u001b[1;33m\u001b[0m\u001b[1;33m\u001b[0m\u001b[0m\n\u001b[0;32m      7\u001b[0m \u001b[1;31m#Affichage du tableau de population\u001b[0m\u001b[1;33m\u001b[0m\u001b[1;33m\u001b[0m\u001b[0m\n\u001b[1;32m----> 8\u001b[1;33m \u001b[0mprint\u001b[0m\u001b[1;33m(\u001b[0m\u001b[0mpopulation\u001b[0m\u001b[1;33m(\u001b[0m\u001b[1;33m)\u001b[0m\u001b[1;33m)\u001b[0m\u001b[1;33m\u001b[0m\u001b[1;33m\u001b[0m\u001b[0m\n\u001b[0m",
      "\u001b[1;32m~\\AppData\\Local\\Temp\\ipykernel_12552\\478610305.py\u001b[0m in \u001b[0;36mpopulation\u001b[1;34m()\u001b[0m\n\u001b[0;32m      4\u001b[0m \u001b[1;32mfrom\u001b[0m \u001b[0mFAOSTAT_2013_population\u001b[0m\u001b[1;33m\u001b[0m\u001b[1;33m\u001b[0m\u001b[0m\n\u001b[0;32m      5\u001b[0m order by valeur desc;'''\n\u001b[1;32m----> 6\u001b[1;33m     \u001b[1;32mreturn\u001b[0m \u001b[0mpd\u001b[0m\u001b[1;33m.\u001b[0m\u001b[0mread_sql_query\u001b[0m\u001b[1;33m(\u001b[0m\u001b[0mSQL\u001b[0m\u001b[1;33m,\u001b[0m \u001b[0mcon\u001b[0m\u001b[1;33m=\u001b[0m\u001b[0mconn\u001b[0m\u001b[1;33m)\u001b[0m\u001b[1;33m\u001b[0m\u001b[1;33m\u001b[0m\u001b[0m\n\u001b[0m\u001b[0;32m      7\u001b[0m \u001b[1;31m#Affichage du tableau de population\u001b[0m\u001b[1;33m\u001b[0m\u001b[1;33m\u001b[0m\u001b[0m\n\u001b[0;32m      8\u001b[0m \u001b[0mprint\u001b[0m\u001b[1;33m(\u001b[0m\u001b[0mpopulation\u001b[0m\u001b[1;33m(\u001b[0m\u001b[1;33m)\u001b[0m\u001b[1;33m)\u001b[0m\u001b[1;33m\u001b[0m\u001b[1;33m\u001b[0m\u001b[0m\n",
      "\u001b[1;32m~\\anaconda3\\envs\\IA\\lib\\site-packages\\pandas\\io\\sql.py\u001b[0m in \u001b[0;36mread_sql_query\u001b[1;34m(sql, con, index_col, coerce_float, params, parse_dates, chunksize, dtype)\u001b[0m\n\u001b[0;32m    397\u001b[0m     \"\"\"\n\u001b[0;32m    398\u001b[0m     \u001b[0mpandas_sql\u001b[0m \u001b[1;33m=\u001b[0m \u001b[0mpandasSQL_builder\u001b[0m\u001b[1;33m(\u001b[0m\u001b[0mcon\u001b[0m\u001b[1;33m)\u001b[0m\u001b[1;33m\u001b[0m\u001b[1;33m\u001b[0m\u001b[0m\n\u001b[1;32m--> 399\u001b[1;33m     return pandas_sql.read_query(\n\u001b[0m\u001b[0;32m    400\u001b[0m         \u001b[0msql\u001b[0m\u001b[1;33m,\u001b[0m\u001b[1;33m\u001b[0m\u001b[1;33m\u001b[0m\u001b[0m\n\u001b[0;32m    401\u001b[0m         \u001b[0mindex_col\u001b[0m\u001b[1;33m=\u001b[0m\u001b[0mindex_col\u001b[0m\u001b[1;33m,\u001b[0m\u001b[1;33m\u001b[0m\u001b[1;33m\u001b[0m\u001b[0m\n",
      "\u001b[1;32m~\\anaconda3\\envs\\IA\\lib\\site-packages\\pandas\\io\\sql.py\u001b[0m in \u001b[0;36mread_query\u001b[1;34m(self, sql, index_col, coerce_float, params, parse_dates, chunksize, dtype)\u001b[0m\n\u001b[0;32m   2078\u001b[0m \u001b[1;33m\u001b[0m\u001b[0m\n\u001b[0;32m   2079\u001b[0m         \u001b[0margs\u001b[0m \u001b[1;33m=\u001b[0m \u001b[0m_convert_params\u001b[0m\u001b[1;33m(\u001b[0m\u001b[0msql\u001b[0m\u001b[1;33m,\u001b[0m \u001b[0mparams\u001b[0m\u001b[1;33m)\u001b[0m\u001b[1;33m\u001b[0m\u001b[1;33m\u001b[0m\u001b[0m\n\u001b[1;32m-> 2080\u001b[1;33m         \u001b[0mcursor\u001b[0m \u001b[1;33m=\u001b[0m \u001b[0mself\u001b[0m\u001b[1;33m.\u001b[0m\u001b[0mexecute\u001b[0m\u001b[1;33m(\u001b[0m\u001b[1;33m*\u001b[0m\u001b[0margs\u001b[0m\u001b[1;33m)\u001b[0m\u001b[1;33m\u001b[0m\u001b[1;33m\u001b[0m\u001b[0m\n\u001b[0m\u001b[0;32m   2081\u001b[0m         \u001b[0mcolumns\u001b[0m \u001b[1;33m=\u001b[0m \u001b[1;33m[\u001b[0m\u001b[0mcol_desc\u001b[0m\u001b[1;33m[\u001b[0m\u001b[1;36m0\u001b[0m\u001b[1;33m]\u001b[0m \u001b[1;32mfor\u001b[0m \u001b[0mcol_desc\u001b[0m \u001b[1;32min\u001b[0m \u001b[0mcursor\u001b[0m\u001b[1;33m.\u001b[0m\u001b[0mdescription\u001b[0m\u001b[1;33m]\u001b[0m\u001b[1;33m\u001b[0m\u001b[1;33m\u001b[0m\u001b[0m\n\u001b[0;32m   2082\u001b[0m \u001b[1;33m\u001b[0m\u001b[0m\n",
      "\u001b[1;32m~\\anaconda3\\envs\\IA\\lib\\site-packages\\pandas\\io\\sql.py\u001b[0m in \u001b[0;36mexecute\u001b[1;34m(self, *args, **kwargs)\u001b[0m\n\u001b[0;32m   2030\u001b[0m \u001b[1;33m\u001b[0m\u001b[0m\n\u001b[0;32m   2031\u001b[0m             \u001b[0mex\u001b[0m \u001b[1;33m=\u001b[0m \u001b[0mDatabaseError\u001b[0m\u001b[1;33m(\u001b[0m\u001b[1;34mf\"Execution failed on sql '{args[0]}': {exc}\"\u001b[0m\u001b[1;33m)\u001b[0m\u001b[1;33m\u001b[0m\u001b[1;33m\u001b[0m\u001b[0m\n\u001b[1;32m-> 2032\u001b[1;33m             \u001b[1;32mraise\u001b[0m \u001b[0mex\u001b[0m \u001b[1;32mfrom\u001b[0m \u001b[0mexc\u001b[0m\u001b[1;33m\u001b[0m\u001b[1;33m\u001b[0m\u001b[0m\n\u001b[0m\u001b[0;32m   2033\u001b[0m \u001b[1;33m\u001b[0m\u001b[0m\n\u001b[0;32m   2034\u001b[0m     \u001b[1;33m@\u001b[0m\u001b[0mstaticmethod\u001b[0m\u001b[1;33m\u001b[0m\u001b[1;33m\u001b[0m\u001b[0m\n",
      "\u001b[1;31mDatabaseError\u001b[0m: Execution failed on sql ' select \"Code Pays\", Pays, Valeur as Population\nfrom FAOSTAT_2013_population \norder by valeur desc;': no such table: FAOSTAT_2013_population"
     ]
    }
   ],
   "source": [
    "#Retourne une table de population de tous les pays\n",
    "def population():\n",
    "    SQL = \t''' select \"Code Pays\", Pays, Valeur as Population\n",
    "from FAOSTAT_2013_population \n",
    "order by valeur desc;'''\n",
    "    return pd.read_sql_query(SQL, con=conn)\n",
    "#Affichage du tableau de population\n",
    "print(population())"
   ]
  },
  {
   "cell_type": "code",
   "execution_count": null,
   "id": "0bb4411e",
   "metadata": {
    "scrolled": true
   },
   "outputs": [],
   "source": [
    "#Retourne une table de population mal nutrie pour tous les pays\n",
    "def mal_nutrition():\n",
    "    SQL = \t''' select \"Code zone\",\n",
    "                        \"zone\",\n",
    "                        Année,\n",
    "                        \"Unité\", \n",
    "                        Valeur as \"Population mal nutrie\",\n",
    "                        Symbole \n",
    "                from FAOSTAT_2013_sous_alimentation;'''\n",
    "    return pd.read_sql_query(SQL, con=conn)\n",
    "#Affichage d'une table de population mal nutrie pour tous les pays\n",
    "print(mal_nutrition())"
   ]
  },
  {
   "cell_type": "markdown",
   "id": "27591b81",
   "metadata": {},
   "source": [
    "Nous décidons de traier la malnutrition mondial par le prisme du pourcentage de malnutrition par pays.\n",
    "Afin de symplifier les requêtes futures, nous créons une vue appelée \"vue_pourcentage_pauverte.\n",
    "Cette vue nous presente les données par ordre décroissant de % de malnutrition."
   ]
  },
  {
   "cell_type": "code",
   "execution_count": null,
   "id": "2c48d245",
   "metadata": {},
   "outputs": [],
   "source": [
    "def create_view(connect):\n",
    "    SQL =     ''' CREATE VIEW vue_pourcentage_pauverte AS\n",
    "select  \"Code groupe de pays partenaires\" as Code_Group_Pays,\n",
    "        \"Groupe de pays partenaires\" as Group_Pays, \n",
    "        \"Code Pays\" as Code_Pays,\n",
    "        Pays, \n",
    "        Année, \n",
    "        val_pauvreté, \n",
    "        Symbole, \n",
    "        val_population, \n",
    "        percentage\n",
    "from FAOSTAT_data INNER JOIN  ( -- vue de la jointure entre la table population et sous alimentation et calcul de la pauvreté\n",
    "        select FAOSTAT_2013_population.\"Code Pays\", \n",
    "            FAOSTAT_2013_population.Pays AS Pays, \n",
    "              FAOSTAT_2013_sous_alimentation.Année, \n",
    "              FAOSTAT_2013_sous_alimentation.Valeur as val_pauvreté,\n",
    "            FAOSTAT_2013_sous_alimentation.Symbole,\n",
    "            FAOSTAT_2013_population.Valeur as val_population,\n",
    "            ((FAOSTAT_2013_sous_alimentation.Valeur/3)/(FAOSTAT_2013_population.Valeur/1000))*100 as percentage\n",
    "        from FAOSTAT_2013_sous_alimentation INNER JOIN FAOSTAT_2013_population on FAOSTAT_2013_population.\"Code Pays\" =FAOSTAT_2013_sous_alimentation.\"Code Pays\"\n",
    "    ) on \"Code Pays\" = FAOSTAT_data.\"Code pays partenaire\" -- jointure pour integration du groupe de pays\n",
    "where (FAOSTAT_data.\"Code groupe de pays partenaires\" % 100)==0 and FAOSTAT_data.\"Code groupe de pays partenaires\" != 5000\n",
    "ORDER BY percentage DESC;'''\n",
    "    \n",
    "    try:\n",
    "        #recupération de connection\n",
    "        cursor = connect.cursor()\n",
    "        print(\"Connected to the database\")\n",
    "\n",
    "        #execution de la requête et création de la table\n",
    "        cursor.execute(SQL)\n",
    "        connect.commit()\n",
    "        print(\"Database created\")\n",
    "    except:\n",
    "        pass\n",
    "\n",
    "    #cloture de connection\n",
    "    cursor.close()\n",
    "    \n",
    "    return \n",
    "\n",
    "#appel de la fonction de création de vue.\n",
    "#resoit une connection à une SGBD\n",
    "create_view(conn)"
   ]
  },
  {
   "cell_type": "markdown",
   "id": "b91c4678",
   "metadata": {},
   "source": [
    "On verifie que tout c'est bien passé."
   ]
  },
  {
   "cell_type": "code",
   "execution_count": null,
   "id": "8692e0e3",
   "metadata": {},
   "outputs": [],
   "source": [
    "#Retourne la vue concernant les poucentages de malnutrition pour tous les pays\n",
    "def percentage():\n",
    "    SQL = ''' select * from vue_pourcentage_pauverte ;'''\n",
    "    return pd.read_sql_query(SQL, con=conn)\n",
    "#affige de la vue\n",
    "print(percentage())"
   ]
  },
  {
   "cell_type": "code",
   "execution_count": null,
   "id": "e7f39ff1",
   "metadata": {},
   "outputs": [],
   "source": [
    "#Retourne la vue concernant les poucentages de malnutrition pour tous les pays\n",
    "def percentage_grou_pays():\n",
    "    \n",
    "    SQL = ''' \n",
    "    select Group_Pays as Regions,\n",
    "            count(Group_Pays) as nb_pays, \n",
    "            avg(percentage) as \"Average % of poor nutrition\"\n",
    "    from vue_pourcentage_pauverte \n",
    "    group by Group_Pays;\n",
    "    '''\n",
    "    return pd.read_sql_query(SQL, con=conn)\n",
    "#Affichage de la vue concernant les poucentages de malnutrition pour tous les pays\n",
    "print(percentage_grou_pays())"
   ]
  },
  {
   "cell_type": "code",
   "execution_count": null,
   "id": "9fbb6484",
   "metadata": {},
   "outputs": [],
   "source": [
    "# Récupération de la liste des continents\n",
    "def list_group_pays():\n",
    "    SQL='''\n",
    "    select DISTINCT Group_Pays from vue_pourcentage_pauverte\n",
    "    '''\n",
    "    return pd.read_sql_query(SQL, con=conn)\n",
    "# Affichage de la liste des continents\n",
    "print(list_group_pays())"
   ]
  },
  {
   "cell_type": "markdown",
   "id": "62c4a114",
   "metadata": {},
   "source": [
    "Analyse univarie\n",
    "Histogramme de malnutrition par continant."
   ]
  },
  {
   "cell_type": "code",
   "execution_count": null,
   "id": "f2d7b1bd",
   "metadata": {},
   "outputs": [],
   "source": [
    "df=percentage_grou_pays()\n",
    "\n",
    "fig,ax= plt.subplots(figsize=(10,5), dpi=50)\n",
    "ax.set_xlabel('Average % of poor nutrition', fontsize = 20.0)\n",
    "ax.set_ylabel('Regions', fontsize = 20.0)\n",
    "\n",
    "colors=['red', 'm','orange', 'blue','green', 'gray']\n",
    "\n",
    "sns.barplot(x = 'Regions'  , y =  \"Average % of poor nutrition\", data = df, palette = colors)\n",
    "plt.tick_params(axis='both', which='major', labelsize=16)"
   ]
  },
  {
   "cell_type": "markdown",
   "id": "d6983ad4",
   "metadata": {},
   "source": []
  },
  {
   "cell_type": "code",
   "execution_count": null,
   "id": "1a477265",
   "metadata": {},
   "outputs": [],
   "source": [
    "df=percentage()\n",
    "df_grp_pays=list_group_pays()\n",
    "\n",
    "labels=list_group_pays()[\"Group_Pays\"]\n",
    "colors=['orange', 'blue','red', 'green','m', 'gray']\n",
    "\n",
    "pal=[]\n",
    "for i in df.index:\n",
    "    if df[\"Group_Pays\"][i]==\"Afrique\":\n",
    "        pal.append(\"red\")\n",
    "    elif df[\"Group_Pays\"][i]==\"Europe\":\n",
    "        pal.append(\"blue\")\n",
    "    elif df[\"Group_Pays\"][i]==\"Amériques\":\n",
    "        pal.append(\"m\")\n",
    "    elif df[\"Group_Pays\"][i]==\"Océanie\":\n",
    "        pal.append(\"green\")\n",
    "    elif df[\"Group_Pays\"][i]==\"Asie\":\n",
    "        pal.append(\"orange\")\n",
    "    else:\n",
    "        pal.append(\"gray\")\n",
    "\n",
    "#paramétrage de la figure\n",
    "fig,ax= plt.subplots(figsize=(70,50), dpi=50)\n",
    "ax.set_xlabel('pays')\n",
    "ax.set_ylabel('percentage')\n",
    "df.dropna(how='any', inplace=True)\n",
    "#tracé du bar graph de pourcentage\n",
    "sns.barplot(x = 'percentage', y =  'Pays', data = df, palette = pal)\n",
    "plt.legend( labels=labels, labelcolor  = colors, bbox_to_anchor=(0.8,0.5), loc=2,\n",
    "           fontsize=50, facecolor=\"gray\",\n",
    "           title_fontsize=50, title=\"Group zones\", markerscale=5)\n",
    "\n",
    "plt.title(\"\\n% de mal nutrition par pays en fonction de leur zone géographique\\n\", fontsize=70 );"
   ]
  },
  {
   "cell_type": "markdown",
   "id": "bf7d8519",
   "metadata": {},
   "source": []
  },
  {
   "cell_type": "code",
   "execution_count": null,
   "id": "83aa988d",
   "metadata": {
    "scrolled": false
   },
   "outputs": [],
   "source": [
    "palette= \"blend:#7AB,#EDA\"\n",
    "fig,ax= plt.subplots(figsize=(20,12), dpi=100)\n",
    "ax.set_xlabel('pays', fontsize = 30.0)\n",
    "ax.set_ylabel('percentage', fontsize = 40.0)\n",
    "colors=['orange', 'red', 'm', 'gray']\n",
    "try:\n",
    "    del labels[1]\n",
    "    del labels[3]\n",
    "except:\n",
    "    pass\n",
    "# sns.barplot(x = 'percentage', y =  'Pays', data = df.head(20), palette = palette)\n",
    "sns.barplot(x = 'percentage', y =  'Pays', data = df.head(20), palette = pal)\n",
    "plt.legend( labels=labels, labelcolor  = colors, bbox_to_anchor=(0.7,0.5), loc=2,\n",
    "           fontsize=30, facecolor=\"gray\",\n",
    "           title_fontsize=35, title=\"Group zones\", markerscale=5)\n",
    "plt.tick_params(axis='both', which='major', labelsize=25)\n",
    "plt.title(\"\\n% de mal nutrition pour les principaux pays\\nen fonction de leur zone géographique\\n\", fontsize=30 );"
   ]
  },
  {
   "cell_type": "markdown",
   "id": "99cc6e1f",
   "metadata": {},
   "source": [
    "Exo : 2"
   ]
  },
  {
   "cell_type": "markdown",
   "id": "cf536050",
   "metadata": {},
   "source": [
    "Question 1 : Nombre d'humains sur la planète\n",
    "Calculez le nombre total d’humains sur la planète.\n",
    "Critiquez votre résultat. En cas d’anomalie, analysez et effectuer les corrections nécessaires.\n",
    "Donnez le résultat de votre calcul pour l'année 2013."
   ]
  },
  {
   "cell_type": "code",
   "execution_count": null,
   "id": "dea592b1",
   "metadata": {},
   "outputs": [],
   "source": [
    "#Retourne la vue concernant les poucentages de malnutrition pour tous les pays\n",
    "def nb_humains_planete():\n",
    "    \n",
    "    SQL = ''' \n",
    "    select sum(Valeur)*1000  from FAOSTAT_2013_population \n",
    "    where \"Code Pays\" != 96 and \"code Pays\" != 128 and \"code Pays\" != 41 and \"code Pays\" != 214 \n",
    "          '''\n",
    "    return pd.read_sql_query(SQL, con=conn)\n",
    "#Affichage de la vue concernant les poucentages de malnutrition pour tous les pays\n",
    "print(nb_humains_planete())"
   ]
  },
  {
   "cell_type": "markdown",
   "id": "09f6053e",
   "metadata": {},
   "source": [
    "Question 2 : Redondances\n",
    "Pour les datasets « animal », « cereal » et « vegetal », on considère ici les 11 quantités : Disponibilité\n",
    "intérieure, Production, Importations, Variation, Exportations, Nourriture, Aliments, Animaux,\n",
    "Semences, Pertes et Traitement.\n",
    "Identifiez les redondances, en donnant votre réponse sous forme de formule mathématique (pas\n",
    "besoin de coder ici).\n",
    "C'est une équation à 3 termes de type (a_1 + a2 + [...] = b_1 + b_2 + [...] = c_1 + c_2 + [...]) ) faisant\n",
    "intervenir chacune des 11 quantités données ci dessus.\n",
    "Illustrez cette équation avec l'exemple du blé en France."
   ]
  },
  {
   "cell_type": "code",
   "execution_count": null,
   "id": "1f4bae1f",
   "metadata": {},
   "outputs": [],
   "source": [
    "select  *\n",
    "from FAOSTAT_2013_cereal \n",
    "where (Pays IN ('France')) \n",
    "    AND (\"Code Élément\" > 1000) \n",
    "    AND (Produit IN ('Blé'))"
   ]
  },
  {
   "cell_type": "markdown",
   "id": "6043142f",
   "metadata": {},
   "source": [
    "Aliments pour animaux + Semences+Pertes+Traitement+Autres Utilisations+Nourriture = Disponibilité intérieure\n",
    "7822+748+358+1575+2824+6971 = 20298\n",
    "Production  + Importations  + Variation de stock -Exportations = Disponibilité intérieure\n",
    "38614+2055+1131-21502=20298"
   ]
  },
  {
   "cell_type": "markdown",
   "id": "36acb453",
   "metadata": {},
   "source": [
    "Question 3 : Disponibilité alimentaire (calories, protéines)\n",
    "Calculez (pour chaque pays et chaque produit) la disponibilité alimentaire en kcal par an puis en kg\n",
    "de protéines par an. Vous ferez cela à partir de ces informations :\n",
    "- Population de chaque pays\n",
    "- Disponibilité alimentaire donnée pour chaque produit et pour chaque pays en kcal/personne/jour, -\n",
    "- Disponibilité alimentaire en protéines donnée pour chaque produit et pour chaque pays en\n",
    "g/personne/jour."
   ]
  },
  {
   "cell_type": "code",
   "execution_count": null,
   "id": "622fae16",
   "metadata": {},
   "outputs": [],
   "source": [
    "select kcal.Pays, kcal.Produit,\"kcal/kg\" as Unité, kcal.Valeur/(prot.Valeur/1000)\n",
    "from \n",
    "    (\n",
    "    select Pays, Produit, Valeur \n",
    "    from vue_2013_disp_Kcal_prot\n",
    "    where Élément = \"Disponibilité alimentaire (Kcal/personne/jour)\"\n",
    "    ) as kcal,\n",
    "    (\n",
    "    select Pays, Produit, Valeur \n",
    "    from vue_2013_disp_Kcal_prot\n",
    "    where Élément = \"Disponibilité de protéines en quantité (g/personne/jour)\"\n",
    "    ) as prot\n",
    "where kcal.Pays=prot.Pays and kcal.Produit=prot.Produit"
   ]
  },
  {
   "cell_type": "markdown",
   "id": "f44472aa",
   "metadata": {},
   "source": [
    "Question 4 : Ratio énergie/poids\n",
    "A partir de ces dernières informations, et à partir du poids de la disponibilité alimentaire (pour\n",
    "chaque pays et chaque produit), calculez pour chaque produit le ratio \"énergie/poids\", que vous\n",
    "\n",
    "donnerez en kcal/kg. Vous pouvez vérifier la cohérence de votre calcul en comparant ce ratio aux\n",
    "données disponibles sur internet, par exemple en cherchant la valeur calorique d'un oeuf."
   ]
  },
  {
   "cell_type": "code",
   "execution_count": null,
   "id": "46d4b06e",
   "metadata": {},
   "outputs": [],
   "source": [
    "select * FROM\n",
    "(\n",
    "    select kcal.Pays,\n",
    "            kcal.Produit,\n",
    "            \"kcal/kg\" as Unité, \n",
    "            ROUND(kcal.Calorie/(prot.Proteine/1000)) as Ratio_Cal_Prot,\n",
    "            kcal.Calorie as Calorie,\n",
    "            prot.Proteine as Proteine\n",
    "    from \n",
    "        (\n",
    "        select Pays, Produit, Valeur as Calorie\n",
    "        from vue_2013_disp_Kcal_prot\n",
    "        where Élément = \"Disponibilité alimentaire (Kcal/personne/jour)\"\n",
    "        ) as kcal,\n",
    "        (\n",
    "        select Pays, Produit, Valeur as Proteine\n",
    "        from vue_2013_disp_Kcal_prot\n",
    "        where Élément = \"Disponibilité de protéines en quantité (g/personne/jour)\"\n",
    "        ) as prot\n",
    "    where kcal.Pays=prot.Pays and kcal.Produit=prot.Produit\n",
    "    \n",
    "    order by Ratio_Cal_Prot DESC limit 20\n",
    ")\n",
    "ORDER BY Calorie desc limit 5"
   ]
  },
  {
   "cell_type": "code",
   "execution_count": null,
   "id": "c702d896",
   "metadata": {},
   "outputs": [],
   "source": [
    "select * FROM\n",
    "(\n",
    "    select kcal.Pays,\n",
    "            kcal.Produit,\n",
    "            \"kcal/kg\" as Unité, \n",
    "            ROUND(kcal.Calorie/(prot.Proteine/1000)) as Ratio_Cal_Prot,\n",
    "            kcal.Calorie as Calorie,\n",
    "            prot.Proteine as Proteine\n",
    "    from \n",
    "        (\n",
    "        select Pays, Produit, Valeur as Calorie\n",
    "        from vue_2013_disp_Kcal_prot\n",
    "        where Élément = \"Disponibilité alimentaire (Kcal/personne/jour)\"\n",
    "        ) as kcal,\n",
    "        (\n",
    "        select Pays, Produit, Valeur as Proteine\n",
    "        from vue_2013_disp_Kcal_prot\n",
    "        where Élément = \"Disponibilité de protéines en quantité (g/personne/jour)\"\n",
    "        ) as prot\n",
    "    where kcal.Pays=prot.Pays and kcal.Produit=prot.Produit\n",
    "    \n",
    "    order by Ratio_Cal_Prot DESC limit 20\n",
    ")\n",
    "ORDER BY Proteine desc limit 5"
   ]
  },
  {
   "cell_type": "markdown",
   "id": "d2403c02",
   "metadata": {},
   "source": [
    "Question 6 : Dispo. intérieure mondiale des végétaux\n",
    "Calculez, pour les produits végétaux uniquement, la disponibilité intérieure mondiale exprimée en\n",
    "kcal."
   ]
  },
  {
   "cell_type": "code",
   "execution_count": null,
   "id": "025f0352",
   "metadata": {},
   "outputs": [],
   "source": [
    "select sum(\"Disp interieur\" * \"Calories\"*1000), \"KCal\" as \"Unité\"\n",
    "FROM (\n",
    "    select Pays, Produit, Valeur as \"Disp interieur\"\n",
    "    from FAOSTAT_2013_vegetal\n",
    "    where FAOSTAT_2013_vegetal.\"Code Élément\" = 5301\n",
    "    ) AS table_disp,\n",
    "    (\n",
    "    select Pays, Produit, Valeur as \"Calories\"\n",
    "    from FAOSTAT_2013_vegetal\n",
    "    where \"Code Élément\" = 645\n",
    "    ) AS table_calories\n",
    "where table_disp.Pays=table_calories.Pays and table_disp.Produit=table_calories.Produit"
   ]
  },
  {
   "cell_type": "markdown",
   "id": "2eed18dd",
   "metadata": {},
   "source": [
    "Question 7 : Potentiel alimentaire des végétaux\n",
    "Combien d'humains pourraient être nourris si toute la disponibilité intérieure mondiale de produits\n",
    "végétaux était utilisée pour de la nourriture ? Donnez les résultats en termes de calories, puis de\n",
    "protéines, et exprimez ensuite ces 2 résultats en pourcentage de la population mondiale."
   ]
  },
  {
   "cell_type": "markdown",
   "id": "38cb3e0c",
   "metadata": {},
   "source": [
    "reponce de chatGPT a la question \"quel est le besoin moyen en calorie pour les humains\" \n",
    "Le besoin en calories varie considérablement d'une personne à l'autre en fonction de facteurs tels que l'âge, le sexe, la taille, le poids, le niveau d'activité physique et d'autres considérations de santé. En général, les adultes ont besoin d'environ 2000 à 2500 calories par jour pour maintenir leur poids corporel, mais cela peut varier de 1200 à plus de 3000 calories par jour en fonction des besoins individuels.\n"
   ]
  },
  {
   "cell_type": "code",
   "execution_count": null,
   "id": "e2f16832",
   "metadata": {},
   "outputs": [],
   "source": [
    "select \"Disponibilité Mondial (Kcal)\", round(\"Disponibilité Mondial (Kcal)\"/2.500) as \"Nombre d'individues peut nourrir\" from\n",
    "    (select sum(\"Disp interieur\" * \"Calories\"*1000) as \"Disponibilité Mondial (Kcal)\"\n",
    "    FROM (\n",
    "        select Pays, Produit, Valeur as \"Disp interieur\"\n",
    "        from FAOSTAT_2013_vegetal\n",
    "        where FAOSTAT_2013_vegetal.\"Code Élément\" = 5301\n",
    "        ) AS table_disp,\n",
    "        (\n",
    "        select Pays, Produit, Valeur as \"Calories\"\n",
    "        from FAOSTAT_2013_vegetal\n",
    "        where \"Code Élément\" = 645\n",
    "        ) AS table_calories\n",
    "    where table_disp.Pays=table_calories.Pays and table_disp.Produit=table_calories.Produit) as mondial"
   ]
  },
  {
   "cell_type": "markdown",
   "id": "bb5c0b7a",
   "metadata": {},
   "source": [
    "Question 8 : Potentiel alimentaire des végétaux (destinés aux animaux pertes)\n",
    "Combien d'humains pourraient être nourris si toute la disponibilité alimentaire en produits végétaux\n",
    "la nourriture végétale destinée aux animaux et les pertes de produits végétaux étaient utilisés pour\n",
    "de la nourriture ? Donnez les résultats en termes de calories, puis de protéines, et exprimez ensuite\n",
    "ces 2 résultats en pourcentage de la population mondiale."
   ]
  },
  {
   "cell_type": "markdown",
   "id": "95f94724",
   "metadata": {},
   "source": [
    "Le besoin en protéines varie également d'une personne à l'autre en fonction de facteurs tels que l'âge, le sexe, la taille, le poids, le niveau d'activité physique et d'autres considérations de santé.\n",
    "\n",
    "En général, l'Organisation Mondiale de la Santé (OMS) recommande une consommation quotidienne de 0,8 gramme de protéines par kilogramme de poids corporel pour les adultes en bonne santé. Cela signifie qu'une personne pesant 60 kg a besoin d'environ 48 grammes de protéines par jour.\n",
    "\n",
    "Cependant, pour les athlètes et les personnes qui font des entraînements intenses, le besoin en protéines peut être plus élevé, jusqu'à 1,6 à 1,7 gramme de protéines par kilogramme de poids corporel par jour. Il est important de souligner que les besoins en protéines sont également plus élevés chez les personnes qui perdent du poids, chez les femmes enceintes et allaitantes, et chez les personnes âgées.\n",
    "\n",
    "Il est important de noter qu'il est possible d'obtenir suffisamment de protéines en consommant une variété d'aliments, tels que les viandes, les volailles, les poissons, les œufs, les légumineuses, les noix et les graines. Il est recommandé de consommer des aliments riches en protéines tout au long de la journée pour répartir les apports.\n",
    "\n",
    "Il est toujours important de consulter un professionnel de santé pour établir les besoins en protéines appropriés pour vous.\n",
    "-------------------------------------------------------------------------------------------------------------------------------\n",
    "Le poids moyen d'un adulte varie considérablement en fonction de nombreux facteurs, notamment l'âge, le sexe, la taille, l'activité physique, la génétique et l'alimentation. Il est difficile de donner un poids moyen précis pour tous les adultes, mais en général, le poids moyen d'un adulte varie entre 50 et 90 kg.\n",
    "\n",
    "Pour les hommes, le poids moyen est généralement légèrement supérieur à celui des femmes. Selon les données de l'Organisation mondiale de la santé (OMS), le poids moyen pour les hommes adultes est d'environ 80 kg, tandis que pour les femmes adultes, il est d'environ 70 kg.\n",
    "\n",
    "Il est important de noter que le poids ne doit pas être considéré comme le seul indicateur de la santé d'une personne. Il existe de nombreux autres facteurs importants, tels que l'IMC (indice de masse corporelle), la composition corporelle et la santé globale, qui doivent être pris en compte pour évaluer la santé d'une personne.\n",
    "\n",
    "Il est important de rappeler que pour évaluer notre poids il est important de consulter des professionnels de la santé qui pourraient nous aider à définir des objectifs de poids réaliste et sain et pour éviter toute pathologie liée à un poids excessive ou insuffisant."
   ]
  }
 ],
 "metadata": {
  "kernelspec": {
   "display_name": "Python 3 (ipykernel)",
   "language": "python",
   "name": "python3"
  },
  "language_info": {
   "codemirror_mode": {
    "name": "ipython",
    "version": 3
   },
   "file_extension": ".py",
   "mimetype": "text/x-python",
   "name": "python",
   "nbconvert_exporter": "python",
   "pygments_lexer": "ipython3",
   "version": "3.9.13"
  }
 },
 "nbformat": 4,
 "nbformat_minor": 5
}
